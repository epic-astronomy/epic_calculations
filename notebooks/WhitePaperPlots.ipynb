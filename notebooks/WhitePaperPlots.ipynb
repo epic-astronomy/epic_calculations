{
 "cells": [
  {
   "cell_type": "code",
   "execution_count": 24,
   "metadata": {
    "ExecuteTime": {
     "end_time": "2019-07-02T22:40:10.597473Z",
     "start_time": "2019-07-02T22:40:10.572387Z"
    }
   },
   "outputs": [],
   "source": [
    "%matplotlib notebook\n",
    "import numpy as np\n",
    "import matplotlib.pyplot as plt\n",
    "import scipy.constants as const\n",
    "import sys\n",
    "sys.path.append('/home/beards/code/epic_calculations/epic_calculations')\n",
    "import telescope_observation\n",
    "reload(telescope_observation)  # Do this while I'm developing telescope_observation\n",
    "from telescope_observation import TelescopeObservation"
   ]
  },
  {
   "cell_type": "code",
   "execution_count": 26,
   "metadata": {
    "ExecuteTime": {
     "end_time": "2019-07-02T22:40:35.349462Z",
     "start_time": "2019-07-02T22:40:35.276991Z"
    }
   },
   "outputs": [],
   "source": [
    "dsa_layout = np.loadtxt('/home/beards/code/epic_calculations/layouts/dsa_5m_15km.txt')\n",
    "ovro_lwa_layout = np.loadtxt('/home/beards/code/epic_calculations/layouts/lwa_5km.txt')\n",
    "ngvla_core_layout = np.loadtxt('/home/beards/code/epic_calculations/layouts/ngvla_core.txt')\n",
    "ngvla_sba_layout = np.loadtxt('/home/beards/code/epic_calculations/layouts/ngvla_sba.txt')\n",
    "ngvla_compact_layout = np.concatenate([ngvla_core_layout, ngvla_sba_layout], axis=0)\n",
    "ska_low_layout = np.loadtxt('/home/beards/code/epic_calculations/layouts/ska_low.txt')\n",
    "mwa_compact_layout = np.loadtxt('/home/beards/code/epic_calculations/layouts/mwa_phase2_compact.txt')\n",
    "mwa_extended_layout = np.loadtxt('/home/beards/code/epic_calculations/layouts/mwa_phase2_extended.txt')\n",
    "mwa_iii_layout = np.concatenate([mwa_compact_layout, mwa_extended_layout])"
   ]
  },
  {
   "cell_type": "code",
   "execution_count": 34,
   "metadata": {
    "ExecuteTime": {
     "end_time": "2019-07-02T23:05:40.399968Z",
     "start_time": "2019-07-02T23:05:40.378033Z"
    }
   },
   "outputs": [],
   "source": [
    "Nchan = 1024\n",
    "dsa = TelescopeObservation(layout=dsa_layout, Dant=5, f0=1.35e3, bandwidth=1.3e3,\n",
    "                           Nchan=Nchan, integration=1e-3)\n",
    "ovro = TelescopeObservation(layout=ovro_lwa_layout, Dant=1.5, f0=55, bandwidth=60.,\n",
    "                            Nchan=Nchan, integration=1e-3)\n",
    "ngvla = TelescopeObservation(layout=ngvla_compact_layout, Dant=18, f0=11.2e3, bandwidth=20e3,\n",
    "                             Nchan=Nchan, integration=1e-3)\n",
    "ska_low = TelescopeObservation(layout=ska_low_layout, Dant=35, f0=200, bandwidth=300.,\n",
    "                               Nchan=Nchan, integration=1e-3)\n",
    "ska_low_core = TelescopeObservation(layout=ska_low_layout, Darray=1e3, Dant=35, f0=200, bandwidth=300.,\n",
    "                                    Nchan=Nchan, integration=1e-3)\n",
    "ska_low_extreme_core = TelescopeObservation(Darray=1e3, Nant=131072. / 2., Dant=1., f0=200, bandwidth=300.,\n",
    "                                            Nchan=Nchan, integration=1e-3)\n",
    "mwa_ii_compact = TelescopeObservation(layout=mwa_compact_layout, Dant=4.5, f0=200, bandwidth=30.72,\n",
    "                                      Nchan=Nchan, integration=1e-3)\n",
    "mwa_ii_extended = TelescopeObservation(layout=mwa_extended_layout, Dant=4.5, f0=200, bandwidth=30.72,\n",
    "                                       Nchan=Nchan, integration=1e-3)\n",
    "mwa_ii_extended = TelescopeObservation(layout=mwa_iii_layout, Dant=4.5, f0=200, bandwidth=30.72 * 2,\n",
    "                                       Nchan=Nchan, integration=1e-3)\n",
    "puma_light = TelescopeObservation(Darray=600., Nant=5e3, Dant=6., f0=650, bandwidth=900.,\n",
    "                                  Nchan=Nchan, integration=1e-3)\n",
    "puma_full = TelescopeObservation(Darray=1500., Nant=32e3, Dant=6., f0=650, bandwidth=900.,\n",
    "                                 Nchan=Nchan, integration=1e-3)"
   ]
  },
  {
   "cell_type": "code",
   "execution_count": null,
   "metadata": {},
   "outputs": [],
   "source": []
  }
 ],
 "metadata": {
  "kernelspec": {
   "display_name": "EPIC",
   "language": "python",
   "name": "epic"
  },
  "language_info": {
   "codemirror_mode": {
    "name": "ipython",
    "version": 2
   },
   "file_extension": ".py",
   "mimetype": "text/x-python",
   "name": "python",
   "nbconvert_exporter": "python",
   "pygments_lexer": "ipython2",
   "version": "2.7.15"
  }
 },
 "nbformat": 4,
 "nbformat_minor": 2
}
