{
 "cells": [
  {
   "cell_type": "code",
   "execution_count": null,
   "metadata": {
    "ExecuteTime": {
     "end_time": "2019-07-09T22:48:24.705807Z",
     "start_time": "2019-07-09T22:48:24.687495Z"
    }
   },
   "outputs": [],
   "source": [
    "%matplotlib notebook\n",
    "import numpy as np\n",
    "import matplotlib.pyplot as plt\n",
    "import scipy.constants as const\n",
    "import sys\n",
    "from adjustText import adjust_text  # https://github.com/Phlya/adjustText/wiki\n",
    "sys.path.append('/home/beards/code/epic_calculations/epic_calculations')\n",
    "import telescope_observation\n",
    "reload(telescope_observation)  # Do this while I'm developing telescope_observation\n",
    "from telescope_observation import TelescopeObservation"
   ]
  },
  {
   "cell_type": "code",
   "execution_count": null,
   "metadata": {
    "ExecuteTime": {
     "end_time": "2019-07-09T22:48:24.956859Z",
     "start_time": "2019-07-09T22:48:24.911251Z"
    }
   },
   "outputs": [],
   "source": [
    "dsa_layout = np.loadtxt('/home/beards/code/epic_calculations/layouts/dsa_5m_15km.txt')\n",
    "ovro_lwa_layout = np.loadtxt('/home/beards/code/epic_calculations/layouts/lwa_5km.txt')\n",
    "ngvla_core_layout = np.loadtxt('/home/beards/code/epic_calculations/layouts/ngvla_core.txt')\n",
    "ngvla_sba_layout = np.loadtxt('/home/beards/code/epic_calculations/layouts/ngvla_sba.txt')\n",
    "ngvla_compact_layout = np.concatenate([ngvla_core_layout, ngvla_sba_layout], axis=0)\n",
    "ska_low_layout = np.loadtxt('/home/beards/code/epic_calculations/layouts/ska_low.txt')\n",
    "mwa_compact_layout = np.loadtxt('/home/beards/code/epic_calculations/layouts/mwa_phase2_compact.txt')\n",
    "mwa_extended_layout = np.loadtxt('/home/beards/code/epic_calculations/layouts/mwa_phase2_extended.txt')\n",
    "mwa_iii_layout = np.concatenate([mwa_compact_layout, mwa_extended_layout])\n",
    "hera_layout = np.loadtxt('/home/beards/code/epic_calculations/layouts/HERA350.txt')"
   ]
  },
  {
   "cell_type": "markdown",
   "metadata": {},
   "source": [
    "# Open questions\n",
    "- What integration time to use?\n",
    "- How many channels should we assume for each telescope?\n",
    "- Grid size - use FoV at lowest end of band? Center of band?\n",
    "- Pick center frequency for tunable arrays (MWA)\n",
    "- HERA layout"
   ]
  },
  {
   "cell_type": "code",
   "execution_count": null,
   "metadata": {
    "ExecuteTime": {
     "end_time": "2019-07-09T23:48:24.213129Z",
     "start_time": "2019-07-09T23:48:24.178316Z"
    }
   },
   "outputs": [],
   "source": [
    "# Set up all the TelescopeObservations\n",
    "integration = .5e-3  # .5 ms\n",
    "# May want sub-ms to resolve pulses\n",
    "\n",
    "dsa = TelescopeObservation(layout=dsa_layout, Dant=5, f0=1.35e3, bandwidth=1.3e3,\n",
    "                           df=0.024, integration=integration)\n",
    "ovro = TelescopeObservation(layout=ovro_lwa_layout, Dant=3., f0=55, bandwidth=60.,\n",
    "                            df=0.024, integration=integration)\n",
    "ngvla = TelescopeObservation(layout=ngvla_compact_layout, Dant=18, f0=2.4e3, bandwidth=2.3e3,\n",
    "                             df=2.3e3 / 64e3, integration=integration)\n",
    "ska_low = TelescopeObservation(layout=ska_low_layout, Dant=35, f0=200, bandwidth=300.,\n",
    "                               df=0.01, integration=integration)\n",
    "ska_low_core = TelescopeObservation(layout=ska_low_layout, Darray=1e3, Dant=35, f0=200, bandwidth=300.,\n",
    "                                    df=0.01, integration=integration)\n",
    "ska_low_extreme_core = TelescopeObservation(Darray=1e3, Nant=131072. / 2., Dant=1., f0=200, bandwidth=300.,\n",
    "                                            df=0.01, integration=integration)\n",
    "mwa_ii_compact = TelescopeObservation(layout=mwa_compact_layout, Dant=4.5, f0=180., bandwidth=30.72,\n",
    "                                      df=0.04, integration=integration)\n",
    "mwa_iii = TelescopeObservation(layout=mwa_iii_layout, Dant=4.5, f0=180., bandwidth=30.72 * 2,\n",
    "                                       df=0.01, integration=integration)\n",
    "puma_petite = TelescopeObservation(Darray=600., Nant=5e3, Dant=6., f0=650, bandwidth=900.,\n",
    "                                   df=.024, integration=integration)\n",
    "puma_full = TelescopeObservation(Darray=1500., Nant=32e3, Dant=6., f0=650, bandwidth=900.,\n",
    "                                 df=.024, integration=integration)\n",
    "hera = TelescopeObservation(layout=hera_layout, Dant=14., f0=150., bandwidth=187., df=0.0305,\n",
    "                            integration=integration)\n",
    "hera_core = TelescopeObservation(layout=hera_layout, Dant=14., Darray=310., f0=150., bandwidth=187.,\n",
    "                                 df=.0305, integration=integration)\n",
    "# Make HERA III filled out to the outriggers\n",
    "hera_iii = TelescopeObservation(Darray=hera.Darray, Nant=3000., Dant=14., f0=150., bandwidth=187.,\n",
    "                                df=.0305, integration=integration)"
   ]
  },
  {
   "cell_type": "code",
   "execution_count": null,
   "metadata": {
    "ExecuteTime": {
     "end_time": "2019-07-10T00:19:47.000166Z",
     "start_time": "2019-07-10T00:19:46.969128Z"
    }
   },
   "outputs": [],
   "source": [
    "obs_dict = {'DSA-2000': dsa, 'OVRO-LWA-2000': ovro, 'ngVLA': ngvla, 'SKA-Low': ska_low, 'SKA-Low Core': ska_low_core,\n",
    "            'SKA-Low Extreme Core': ska_low_extreme_core, 'MWA-II Compact': mwa_ii_compact,\n",
    "            'MWA-III': mwa_iii, 'PUMA Petite': puma_petite,\n",
    "            'PUMA Full': puma_full, 'HERA': hera, 'HERA core': hera_core, 'HERA-III': hera_iii}\n",
    "color_dict = {'DSA-2000': 'C0', 'OVRO-LWA-2000': 'C0', 'ngVLA': 'C0', 'SKA-Low': 'C0', 'SKA-Low Core': 'C1',\n",
    "            'SKA-Low Extreme Core': 'C1', 'MWA-II Compact': 'C0',\n",
    "            'MWA-III': 'C0', 'PUMA Petite': 'C1',\n",
    "            'PUMA Full': 'C0', 'HERA': 'C0', 'HERA core': 'C1', 'HERA-III': 'C0'}\n",
    "epic_flops = np.array([1e-9 * obs.vanilla_EPIC_stats(verbose=False) for obs in obs_dict.values()])\n",
    "epic_out_bw = np.array([1e-9 * obs.img_out_bw for obs in obs_dict.values()])\n",
    "fx_flops = np.array([1e-9 * obs.FX_stats(verbose=False) for obs in obs_dict.values()])\n",
    "fx_out_bw = np.array([1e-9 * obs.vis_out_bw for obs in obs_dict.values()])\n",
    "colors = [color_dict[tel] for tel in obs_dict.keys()]"
   ]
  },
  {
   "cell_type": "code",
   "execution_count": null,
   "metadata": {
    "ExecuteTime": {
     "end_time": "2019-07-10T00:21:16.590136Z",
     "start_time": "2019-07-10T00:21:13.191288Z"
    }
   },
   "outputs": [],
   "source": [
    "plt.figure()\n",
    "[plt.loglog(fx, epic, 'o', mfc=color, mec=color) for fx, epic, color in zip(fx_flops, epic_flops, colors)]\n",
    "plt.plot([np.min(epic_flops), np.max(fx_flops)], [np.min(epic_flops), np.max(fx_flops)], ':k')\n",
    "texts = [plt.text(x, y, label, ha='center', va='center') for label, x, y in zip(obs_dict.keys(), fx_flops, epic_flops)]\n",
    "adjust_text(texts)\n",
    "\n",
    "plt.xlabel('FX Compute (GFLOPS)')\n",
    "plt.ylabel('EPIC Compute (GFLOPS)')\n",
    "plt.xlim([.5 * fx_flops.min(), 5 * fx_flops.max()])\n",
    "plt.ylim([.5 * epic_flops.min(), 5 * epic_flops.max()])\n",
    "\n",
    "plt.savefig('/home/beards/temp/EPIC_Compute_Scaling.pdf')"
   ]
  },
  {
   "cell_type": "code",
   "execution_count": null,
   "metadata": {
    "ExecuteTime": {
     "end_time": "2019-07-10T00:22:44.932739Z",
     "start_time": "2019-07-10T00:22:43.319968Z"
    }
   },
   "outputs": [],
   "source": [
    "plt.figure()\n",
    "[plt.loglog(fx, epic, 'o', mfc=color, mec=color) for fx, epic, color in zip(fx_out_bw, epic_out_bw, colors)]\n",
    "plt.plot([np.min(epic_out_bw), np.max(fx_out_bw)], [np.min(epic_out_bw), np.max(fx_out_bw)], ':k')\n",
    "texts = [plt.text(x, y, label, ha='center', va='center') for label, x, y in zip(obs_dict.keys(), fx_out_bw, epic_out_bw)]\n",
    "adjust_text(texts)\n",
    "\n",
    "plt.xlabel('FX Output BW (GBps)')\n",
    "plt.ylabel('EPIC Output BW (GBps)')\n",
    "plt.xlim([.5 * fx_out_bw.min(), 5 * fx_out_bw.max()])\n",
    "plt.ylim([.5 * epic_out_bw.min(), 5 * epic_out_bw.max()])\n",
    "\n",
    "plt.savefig('/home/beards/temp/EPIC_output_BW.pdf')\n"
   ]
  },
  {
   "cell_type": "code",
   "execution_count": null,
   "metadata": {
    "ExecuteTime": {
     "end_time": "2019-07-10T00:01:11.129901Z",
     "start_time": "2019-07-10T00:01:11.092380Z"
    }
   },
   "outputs": [],
   "source": [
    "\n",
    "FX_cost = []\n",
    "EPIC_cost = []\n",
    "FX_low_cost = []\n",
    "EPIC_low_cost = []\n",
    "\n",
    "integrations = np.arange(1e-5, .5e-3, 1e-5)\n",
    "for integration in integrations:\n",
    "    temp = TelescopeObservation(layout=mwa_iii_layout, Dant=4.5, f0=180., bandwidth=30.72 * 2,\n",
    "                                       df=0.01, integration=integration)\n",
    "\n",
    "    FX_cost.append(temp.FX_stats(verbose=False))\n",
    "    EPIC_cost.append(temp.vanilla_EPIC_stats(verbose=False))"
   ]
  },
  {
   "cell_type": "code",
   "execution_count": null,
   "metadata": {
    "ExecuteTime": {
     "end_time": "2019-07-10T00:25:02.545363Z",
     "start_time": "2019-07-10T00:25:02.031829Z"
    }
   },
   "outputs": [],
   "source": [
    "plt.figure(figsize=(7, 3))\n",
    "plt.plot(integrations * 1e3, np.array(FX_cost) * 1e-9, label='FX')\n",
    "plt.plot(integrations * 1e3, np.array(EPIC_cost) * 1e-9, label='EPIC')\n",
    "# plt.plot(integrations, FX_low_cost, label='FX low')\n",
    "# plt.plot(integrations, EPIC_low_cost, label='EPIC low')\n",
    "plt.yscale('log')\n",
    "plt.xscale('log')\n",
    "plt.legend()\n",
    "plt.xlabel('Time resolution (ms)')\n",
    "plt.ylabel('Compute (GFLOPS)')\n",
    "\n",
    "plt.tight_layout()\n",
    "plt.savefig('/home/beards/temp/EPIC_changing_int.pdf')"
   ]
  },
  {
   "cell_type": "markdown",
   "metadata": {},
   "source": [
    "# per channel analysis"
   ]
  },
  {
   "cell_type": "code",
   "execution_count": null,
   "metadata": {
    "ExecuteTime": {
     "end_time": "2019-07-09T22:23:01.761233Z",
     "start_time": "2019-07-09T22:23:01.734378Z"
    }
   },
   "outputs": [],
   "source": [
    "# Set up all the TelescopeObservations\n",
    "integration = 1e-3  # 1 ms\n",
    "# May want sub-ms to resolve pulses\n",
    "\n",
    "dsa = TelescopeObservation(layout=dsa_layout, Dant=5, f0=1.35e3, bandwidth=1,\n",
    "                           df=1, integration=integration)\n",
    "ovro = TelescopeObservation(layout=ovro_lwa_layout, Dant=1.5, f0=55, bandwidth=1.,\n",
    "                            df=1, integration=integration)\n",
    "ngvla = TelescopeObservation(layout=ngvla_compact_layout, Dant=18, f0=11.2e3, bandwidth=1,\n",
    "                             df=1., integration=integration)\n",
    "ngvla_low = TelescopeObservation(layout=ngvla_compact_layout, Dant=18, f0=2.4e3, bandwidth=1,\n",
    "                             df=1., integration=integration)\n",
    "ska_low = TelescopeObservation(layout=ska_low_layout, Dant=35, f0=200, bandwidth=1.,\n",
    "                               df=1, integration=integration)\n",
    "ska_low_core = TelescopeObservation(layout=ska_low_layout, Darray=1e3, Dant=35, f0=200, bandwidth=1.,\n",
    "                                    df=1, integration=integration)\n",
    "ska_low_extreme_core = TelescopeObservation(Darray=1e3, Nant=131072. / 2., Dant=1., f0=200, bandwidth=1.,\n",
    "                                            df=1., integration=integration)\n",
    "mwa_ii_compact = TelescopeObservation(layout=mwa_compact_layout, Dant=4.5, f0=200, bandwidth=1,\n",
    "                                      df=1, integration=integration)\n",
    "mwa_ii_extended = TelescopeObservation(layout=mwa_extended_layout, Dant=4.5, f0=200, bandwidth=1,\n",
    "                                       df=1, integration=integration)\n",
    "mwa_iii = TelescopeObservation(layout=mwa_iii_layout, Dant=4.5, f0=200, bandwidth=1,\n",
    "                                       df=1, integration=integration)\n",
    "puma_light = TelescopeObservation(Darray=600., Nant=5e3, Dant=6., f0=650, bandwidth=1.,\n",
    "                                  df=1, integration=integration)\n",
    "puma_full = TelescopeObservation(Darray=1500., Nant=32e3, Dant=6., f0=650, bandwidth=1.,\n",
    "                                 df=1, integration=integration)\n",
    "hera = TelescopeObservation(layout=hera_layout, Dant=14., f0=150., bandwidth=1., df=1,\n",
    "                            integration=integration)\n",
    "hera_core = TelescopeObservation(layout=hera_layout, Dant=14., Darray=310., f0=150., bandwidth=1.,\n",
    "                                 df=1, integration=integration)"
   ]
  },
  {
   "cell_type": "code",
   "execution_count": null,
   "metadata": {
    "ExecuteTime": {
     "end_time": "2019-07-09T22:18:12.975083Z",
     "start_time": "2019-07-09T22:18:12.963596Z"
    }
   },
   "outputs": [],
   "source": [
    "obs_dict = {'DSA-2000': dsa, 'OVRO-LWA-2000': ovro, 'NGVLA': ngvla, 'SKA-Low': ska_low, 'SKA-Low Core': ska_low_core,\n",
    "            'SKA-Low Extreme Core': ska_low_extreme_core, 'MWA-II Compact': mwa_ii_compact,\n",
    "            'MWA-II Extended': mwa_ii_extended, 'MWA-III': mwa_iii, 'PUMA light': puma_light,\n",
    "            'PUMA Full': puma_full, 'HERA': hera, 'HERA core': hera_core, 'NGVLA_Low': ngvla_low}\n",
    "epic_flops = np.array([1e-9 * obs.vanilla_EPIC_stats(verbose=False) for obs in obs_dict.values()])\n",
    "epic_out_bw = np.array([1e-9 * obs.img_out_bw for obs in obs_dict.values()])\n",
    "fx_flops = np.array([1e-9 * obs.FX_stats(verbose=False) for obs in obs_dict.values()])\n",
    "fx_out_bw = np.array([1e-9 * obs.vis_out_bw for obs in obs_dict.values()])"
   ]
  },
  {
   "cell_type": "code",
   "execution_count": null,
   "metadata": {
    "ExecuteTime": {
     "end_time": "2019-07-09T22:18:17.118773Z",
     "start_time": "2019-07-09T22:18:13.609317Z"
    }
   },
   "outputs": [],
   "source": [
    "plt.figure()\n",
    "plt.loglog(fx_flops, epic_flops, 'o')\n",
    "plt.plot([np.min(epic_flops), np.max(fx_flops)], [np.min(epic_flops), np.max(fx_flops)], ':k')\n",
    "texts = [plt.text(x, y, label, ha='center', va='center') for label, x, y in zip(obs_dict.keys(), fx_flops, epic_flops)]\n",
    "adjust_text(texts)\n",
    "\n",
    "plt.xlabel('FX Compute (GFLOPS)')\n",
    "plt.ylabel('EPIC Compute (GFLOPS)')\n",
    "plt.xlim([.5 * fx_flops.min(), 5 * fx_flops.max()])\n",
    "plt.ylim([.5 * epic_flops.min(), 5 * epic_flops.max()])"
   ]
  },
  {
   "cell_type": "code",
   "execution_count": null,
   "metadata": {
    "ExecuteTime": {
     "end_time": "2019-07-09T17:02:07.862313Z",
     "start_time": "2019-07-09T17:02:04.791273Z"
    }
   },
   "outputs": [],
   "source": [
    "plt.figure()\n",
    "plt.loglog(fx_out_bw, epic_out_bw, 'o')\n",
    "plt.plot([np.min(epic_out_bw), np.max(fx_out_bw)], [np.min(epic_out_bw), np.max(fx_out_bw)], ':k')\n",
    "texts = [plt.text(x, y, label, ha='center', va='center') for label, x, y in zip(obs_dict.keys(), fx_out_bw, epic_out_bw)]\n",
    "adjust_text(texts)\n",
    "\n",
    "plt.xlabel('FX Output BW (GBps)')\n",
    "plt.ylabel('EPIC Output BW (GBps)')\n",
    "plt.xlim([.5 * fx_out_bw.min(), 5 * fx_out_bw.max()])\n",
    "plt.ylim([.5 * epic_out_bw.min(), 5 * epic_out_bw.max()])"
   ]
  },
  {
   "cell_type": "code",
   "execution_count": null,
   "metadata": {},
   "outputs": [],
   "source": []
  },
  {
   "cell_type": "markdown",
   "metadata": {},
   "source": [
    "# Run version for cosmology"
   ]
  },
  {
   "cell_type": "code",
   "execution_count": null,
   "metadata": {
    "ExecuteTime": {
     "end_time": "2019-07-08T22:08:51.920607Z",
     "start_time": "2019-07-08T22:08:51.908648Z"
    }
   },
   "outputs": [],
   "source": [
    "# Set up all the TelescopeObservations\n",
    "integrations = {'DSA-2000': 2, 'OVRO-LWA-2000': 2, 'NGVLA': 2, 'SKA-Low': 2, 'SKA-Low Core': 2,\n",
    "            'SKA-Low Extreme Core': 2, 'MWA-II Compact': 2,\n",
    "            'MWA-II Extended': .5, 'MWA-III': .5, 'PUMA light': 2,\n",
    "            'PUMA Full': .5, 'HERA': 2, 'HERA core': 5}\n",
    "for key in obs_dict.keys():\n",
    "    obs_dict[key].integration = integrations[key]\n",
    "    obs_dict[key]._set_dependents()"
   ]
  },
  {
   "cell_type": "code",
   "execution_count": null,
   "metadata": {
    "ExecuteTime": {
     "end_time": "2019-07-08T22:08:52.355655Z",
     "start_time": "2019-07-08T22:08:52.339034Z"
    }
   },
   "outputs": [],
   "source": [
    "obs_dict = {'DSA-2000': dsa, 'OVRO-LWA-2000': ovro, 'NGVLA': ngvla, 'SKA-Low': ska_low, 'SKA-Low Core': ska_low_core,\n",
    "            'SKA-Low Extreme Core': ska_low_extreme_core, 'MWA-II Compact': mwa_ii_compact,\n",
    "            'MWA-II Extended': mwa_ii_extended, 'MWA-III': mwa_iii, 'PUMA light': puma_light,\n",
    "            'PUMA Full': puma_full, 'HERA': hera, 'HERA core': hera_core}\n",
    "epic_flops = np.array([1e-9 * obs.vanilla_EPIC_stats(verbose=False) for obs in obs_dict.values()])\n",
    "fx_flops = np.array([1e-9 * obs.FX_stats(verbose=False) for obs in obs_dict.values()])"
   ]
  },
  {
   "cell_type": "code",
   "execution_count": null,
   "metadata": {
    "ExecuteTime": {
     "end_time": "2019-07-08T22:08:54.010744Z",
     "start_time": "2019-07-08T22:08:52.957260Z"
    }
   },
   "outputs": [],
   "source": [
    "plt.figure()\n",
    "plt.loglog(fx_flops, epic_flops, 'o')\n",
    "plt.plot([np.min(epic_flops), np.max(fx_flops)], [np.min(epic_flops), np.max(fx_flops)], ':k')\n",
    "texts = [plt.text(x, y, label, ha='center', va='center') for label, x, y in zip(obs_dict.keys(), fx_flops, epic_flops)]\n",
    "adjust_text(texts)\n",
    "\n",
    "plt.xlabel('FX Compute (GFLOPS)')\n",
    "plt.ylabel('EPIC Compute (GFLOPS)')\n",
    "plt.xlim([.5 * fx_flops.min(), 5 * fx_flops.max()])\n",
    "plt.ylim([.5 * epic_flops.min(), 5 * epic_flops.max()])"
   ]
  },
  {
   "cell_type": "code",
   "execution_count": null,
   "metadata": {},
   "outputs": [],
   "source": []
  }
 ],
 "metadata": {
  "kernelspec": {
   "display_name": "EPIC",
   "language": "python",
   "name": "epic"
  },
  "language_info": {
   "codemirror_mode": {
    "name": "ipython",
    "version": 2
   },
   "file_extension": ".py",
   "mimetype": "text/x-python",
   "name": "python",
   "nbconvert_exporter": "python",
   "pygments_lexer": "ipython2",
   "version": "2.7.15"
  }
 },
 "nbformat": 4,
 "nbformat_minor": 2
}
