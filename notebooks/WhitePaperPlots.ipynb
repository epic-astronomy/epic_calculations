{
 "cells": [
  {
   "cell_type": "code",
   "execution_count": null,
   "metadata": {
    "ExecuteTime": {
     "end_time": "2019-07-08T17:28:55.832979Z",
     "start_time": "2019-07-08T17:28:55.817575Z"
    }
   },
   "outputs": [],
   "source": [
    "%matplotlib notebook\n",
    "import numpy as np\n",
    "import matplotlib.pyplot as plt\n",
    "import scipy.constants as const\n",
    "import sys\n",
    "sys.path.append('/home/beards/code/epic_calculations/epic_calculations')\n",
    "import telescope_observation\n",
    "reload(telescope_observation)  # Do this while I'm developing telescope_observation\n",
    "from telescope_observation import TelescopeObservation"
   ]
  },
  {
   "cell_type": "code",
   "execution_count": null,
   "metadata": {
    "ExecuteTime": {
     "end_time": "2019-07-08T18:09:06.720398Z",
     "start_time": "2019-07-08T18:09:06.668639Z"
    }
   },
   "outputs": [],
   "source": [
    "dsa_layout = np.loadtxt('/home/beards/code/epic_calculations/layouts/dsa_5m_15km.txt')\n",
    "ovro_lwa_layout = np.loadtxt('/home/beards/code/epic_calculations/layouts/lwa_5km.txt')\n",
    "ngvla_core_layout = np.loadtxt('/home/beards/code/epic_calculations/layouts/ngvla_core.txt')\n",
    "ngvla_sba_layout = np.loadtxt('/home/beards/code/epic_calculations/layouts/ngvla_sba.txt')\n",
    "ngvla_compact_layout = np.concatenate([ngvla_core_layout, ngvla_sba_layout], axis=0)\n",
    "ska_low_layout = np.loadtxt('/home/beards/code/epic_calculations/layouts/ska_low.txt')\n",
    "mwa_compact_layout = np.loadtxt('/home/beards/code/epic_calculations/layouts/mwa_phase2_compact.txt')\n",
    "mwa_extended_layout = np.loadtxt('/home/beards/code/epic_calculations/layouts/mwa_phase2_extended.txt')\n",
    "mwa_iii_layout = np.concatenate([mwa_compact_layout, mwa_extended_layout])\n",
    "hera_layout = np.loadtxt('/home/beards/code/epic_calculations/layouts/HERA350.txt')"
   ]
  },
  {
   "cell_type": "markdown",
   "metadata": {},
   "source": [
    "# Open questions\n",
    "- What integration time to use?\n",
    "- How many channels should we assume for each telescope?\n",
    "- Grid size - use FoV at lowest end of band? Center of band?\n",
    "- Pick center frequency for tunable arrays (MWA)\n",
    "- HERA layout"
   ]
  },
  {
   "cell_type": "code",
   "execution_count": null,
   "metadata": {
    "ExecuteTime": {
     "end_time": "2019-07-08T18:09:59.590569Z",
     "start_time": "2019-07-08T18:09:59.567415Z"
    }
   },
   "outputs": [],
   "source": [
    "Nchan = 1024\n",
    "dsa = TelescopeObservation(layout=dsa_layout, Dant=5, f0=1.35e3, bandwidth=1.3e3,\n",
    "                           Nchan=Nchan, integration=1e-3)\n",
    "ovro = TelescopeObservation(layout=ovro_lwa_layout, Dant=1.5, f0=55, bandwidth=60.,\n",
    "                            Nchan=Nchan, integration=1e-3)\n",
    "ngvla = TelescopeObservation(layout=ngvla_compact_layout, Dant=18, f0=11.2e3, bandwidth=20e3,\n",
    "                             Nchan=Nchan, integration=1e-3)\n",
    "ska_low = TelescopeObservation(layout=ska_low_layout, Dant=35, f0=200, bandwidth=300.,\n",
    "                               Nchan=Nchan, integration=1e-3)\n",
    "ska_low_core = TelescopeObservation(layout=ska_low_layout, Darray=1e3, Dant=35, f0=200, bandwidth=300.,\n",
    "                                    Nchan=Nchan, integration=1e-3)\n",
    "ska_low_extreme_core = TelescopeObservation(Darray=1e3, Nant=131072. / 2., Dant=1., f0=200, bandwidth=300.,\n",
    "                                            Nchan=Nchan, integration=1e-3)\n",
    "mwa_ii_compact = TelescopeObservation(layout=mwa_compact_layout, Dant=4.5, f0=200, bandwidth=30.72,\n",
    "                                      Nchan=Nchan, integration=1e-3)\n",
    "mwa_ii_extended = TelescopeObservation(layout=mwa_extended_layout, Dant=4.5, f0=200, bandwidth=30.72,\n",
    "                                       Nchan=Nchan, integration=1e-3)\n",
    "mwa_iii = TelescopeObservation(layout=mwa_iii_layout, Dant=4.5, f0=200, bandwidth=30.72 * 2,\n",
    "                                       Nchan=Nchan, integration=1e-3)\n",
    "puma_light = TelescopeObservation(Darray=600., Nant=5e3, Dant=6., f0=650, bandwidth=900.,\n",
    "                                  Nchan=Nchan, integration=1e-3)\n",
    "puma_full = TelescopeObservation(Darray=1500., Nant=32e3, Dant=6., f0=650, bandwidth=900.,\n",
    "                                 Nchan=Nchan, integration=1e-3)\n",
    "hera = TelescopeObservation(layout=hera_layout, Dant=14., f0=150., bandwidth=200., Nchan=8192,\n",
    "                            integration=10)"
   ]
  },
  {
   "cell_type": "code",
   "execution_count": null,
   "metadata": {
    "ExecuteTime": {
     "end_time": "2019-07-08T18:10:15.411000Z",
     "start_time": "2019-07-08T18:10:15.398487Z"
    }
   },
   "outputs": [],
   "source": [
    "obs_dict = {'DSA-2000': dsa, 'OVRO-LWA-2000': ovro, 'NGVLA': ngvla, 'SKA-Low': ska_low, 'SKA-Low Core': ska_low_core,\n",
    "            'SKA-Low Extreme Core': ska_low_extreme_core, 'MWA-II Compact': mwa_ii_compact,\n",
    "            'MWA-II Extended': mwa_ii_extended, 'MWA-III': mwa_iii, 'PUMA light': puma_light,\n",
    "            'PUMA Full': puma_full, 'HERA': hera}\n",
    "epic_flops = np.array([1e-9 * obs.vanilla_EPIC_stats(verbose=False) for obs in obs_dict.values()])\n",
    "fx_flops = np.array([1e-9 * obs.FX_stats(verbose=False) for obs in obs_dict.values()])"
   ]
  },
  {
   "cell_type": "code",
   "execution_count": null,
   "metadata": {
    "ExecuteTime": {
     "end_time": "2019-07-08T18:10:15.969509Z",
     "start_time": "2019-07-08T18:10:15.916133Z"
    }
   },
   "outputs": [],
   "source": [
    "plt.figure()\n",
    "plt.loglog(fx_flops, epic_flops, 'o')\n",
    "plt.plot([np.min(epic_flops), np.max(fx_flops)], [np.min(epic_flops), np.max(fx_flops)], ':k')\n",
    "for label, x, y in zip(obs_dict.keys(), fx_flops, epic_flops):\n",
    "    plt.annotate(label, (x, y))\n",
    "plt.xlabel('FX Compute (GFLOPS)')\n",
    "plt.ylabel('EPIC Compute (GFLOPS)')"
   ]
  },
  {
   "cell_type": "code",
   "execution_count": null,
   "metadata": {},
   "outputs": [],
   "source": []
  }
 ],
 "metadata": {
  "kernelspec": {
   "display_name": "EPIC",
   "language": "python",
   "name": "epic"
  },
  "language_info": {
   "codemirror_mode": {
    "name": "ipython",
    "version": 2
   },
   "file_extension": ".py",
   "mimetype": "text/x-python",
   "name": "python",
   "nbconvert_exporter": "python",
   "pygments_lexer": "ipython2",
   "version": "2.7.15"
  }
 },
 "nbformat": 4,
 "nbformat_minor": 2
}
