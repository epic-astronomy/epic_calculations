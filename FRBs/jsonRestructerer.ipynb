{
 "cells": [
  {
   "cell_type": "code",
   "execution_count": 6,
   "id": "c61d5320-a2f2-4a48-98e7-ec72d1512e75",
   "metadata": {},
   "outputs": [],
   "source": [
    "import pandas as pd\n",
    "import json"
   ]
  },
  {
   "cell_type": "code",
   "execution_count": 7,
   "id": "f3856a0c-0e3f-4cec-baa5-945ecaeab630",
   "metadata": {},
   "outputs": [],
   "source": [
    "# Load the JSON data from the file\n",
    "with open('repeaters.json', 'r') as file:\n",
    "    data = json.load(file)\n",
    "\n",
    "# Function to restructure the events inside each source\n",
    "def restructure_events(source):\n",
    "    events = []\n",
    "    new_source = {}\n",
    "    \n",
    "    for key, value in source.items():\n",
    "        if 'timestamp' in value:  # Assuming event IDs are numeric strings\n",
    "            event = value\n",
    "            event['eventid'] = key  # Keep track of the eventid\n",
    "            events.append(event)\n",
    "        else:\n",
    "            new_source[key] = value\n",
    "    \n",
    "    new_source['events'] = events\n",
    "    return new_source\n",
    "\n",
    "# Traverse the data and restructure each source\n",
    "for source_name, source_content in data.items():\n",
    "    data[source_name] = restructure_events(source_content)\n",
    "\n",
    "# Save the restructured JSON data back to a file\n",
    "with open('restructured_repeaters.json', 'w') as file:\n",
    "    json.dump(data, file, indent=4)\n"
   ]
  },
  {
   "cell_type": "code",
   "execution_count": null,
   "id": "0c6a9d64-b101-41db-85c7-cb2e68a49df5",
   "metadata": {},
   "outputs": [],
   "source": []
  }
 ],
 "metadata": {
  "kernelspec": {
   "display_name": "Python 3 (ipykernel)",
   "language": "python",
   "name": "python3"
  },
  "language_info": {
   "codemirror_mode": {
    "name": "ipython",
    "version": 3
   },
   "file_extension": ".py",
   "mimetype": "text/x-python",
   "name": "python",
   "nbconvert_exporter": "python",
   "pygments_lexer": "ipython3",
   "version": "3.11.9"
  }
 },
 "nbformat": 4,
 "nbformat_minor": 5
}
